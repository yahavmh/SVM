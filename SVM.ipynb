{
  "nbformat": 4,
  "nbformat_minor": 0,
  "metadata": {
    "colab": {
      "name": "SVM.ipynb",
      "provenance": [],
      "collapsed_sections": [],
      "machine_shape": "hm",
      "include_colab_link": true
    },
    "kernelspec": {
      "name": "python3",
      "display_name": "Python 3"
    },
    "accelerator": "GPU"
  },
  "cells": [
    {
      "cell_type": "markdown",
      "metadata": {
        "id": "view-in-github",
        "colab_type": "text"
      },
      "source": [
        "<a href=\"https://colab.research.google.com/github/yahavmh/SVM/blob/master/SVM.ipynb\" target=\"_parent\"><img src=\"https://colab.research.google.com/assets/colab-badge.svg\" alt=\"Open In Colab\"/></a>"
      ]
    },
    {
      "cell_type": "code",
      "metadata": {
        "id": "63FNUvKaZJSH",
        "colab_type": "code",
        "colab": {
          "base_uri": "https://localhost:8080/",
          "height": 34
        },
        "outputId": "7f1d0d38-8fd8-4333-ed0c-7ea9a6a5bbc9"
      },
      "source": [
        "from google.colab import drive\n",
        "drive.mount('/content/drive')"
      ],
      "execution_count": 1,
      "outputs": [
        {
          "output_type": "stream",
          "text": [
            "Drive already mounted at /content/drive; to attempt to forcibly remount, call drive.mount(\"/content/drive\", force_remount=True).\n"
          ],
          "name": "stdout"
        }
      ]
    },
    {
      "cell_type": "code",
      "metadata": {
        "id": "_XO9l8BvvcgZ",
        "colab_type": "code",
        "colab": {}
      },
      "source": [
        "import cv2\n",
        "import numpy as np\n",
        "import os\n",
        "import pandas as pd\n",
        "from PIL import Image\n",
        "from scipy import misc\n",
        "import scipy.io as sio\n",
        "from skimage.color import rgb2gray\n",
        "from skimage.feature import hog\n",
        "from sklearn import svm as svm\n",
        "import matplotlib.pyplot as plt\n",
        "import sklearn\n",
        "from sklearn.metrics import confusion_matrix\n",
        "from sklearn.model_selection import GridSearchCV\n",
        "from os import path\n",
        "from xml.etree import ElementTree\n",
        "from sklearn.model_selection import train_test_split\n",
        "from sklearn.svm import SVC  \n",
        "from skimage.io import imread\n",
        "\n"
      ],
      "execution_count": 2,
      "outputs": []
    },
    {
      "cell_type": "code",
      "metadata": {
        "id": "WI_xL7ySxfpL",
        "colab_type": "code",
        "colab": {}
      },
      "source": [
        "# function to extract bounding boxes from an annotation file\n",
        "def extract_boxes(filename):\n",
        "    # load and parse the file\n",
        "    tree = ElementTree.parse(filename)\n",
        "    # get the root of the document\n",
        "    root = tree.getroot()\n",
        "    # extract each bounding box\n",
        "    boxes = []\n",
        "    labels= []\n",
        "    \n",
        "    for box in root.findall('.//bndbox'):\n",
        "        xmin = int(box.find('xmin').text)\n",
        "        ymin = int(box.find('ymin').text)\n",
        "        xmax = int(box.find('xmax').text)\n",
        "        ymax = int(box.find('ymax').text)\n",
        "        \n",
        "        coordinates = [xmin, ymin, xmax, ymax]\n",
        "        boxes.append(coordinates)\n",
        "    \n",
        "    for name in root.iter('object'):\n",
        "        label = 1\n",
        "        obj = name.find('name').text\n",
        "        if obj == 'corn': \n",
        "            label = -1\n",
        "        labels.append(label)\n",
        "  \n",
        "    return boxes, labels\n",
        "\n",
        "## removing background to keep only green objects in image using HSV filter\n",
        "def background_removal(img):\n",
        "  hsv = cv2.cvtColor(img, cv2.COLOR_RGB2HSV) \n",
        "  mask = cv2.inRange(hsv, (30, 25, 25), (70, 255,255))\n",
        "\n",
        "  ## slice the green\n",
        "  imask = mask>0\n",
        "  green = np.zeros_like(img, np.uint8)\n",
        "  green[imask] = img[imask]\n",
        "  return green \n"
      ],
      "execution_count": 3,
      "outputs": []
    },
    {
      "cell_type": "code",
      "metadata": {
        "id": "w1_4Vt1DCO5o",
        "colab_type": "code",
        "colab": {}
      },
      "source": [
        "def read_data(images_path,xml_path):\n",
        "    ## Reading the images and labels file and distributing them to the train and test set\n",
        "    data = {'images': [],'class': []}\n",
        "    os.chdir(images_path)\n",
        "    num_of_images = len([name for name in os.listdir('.') if os.path.isfile(name)]) ## number of images in dataset\n",
        "    print( \"Number of images in the datase:\", num_of_images)\n",
        "\n",
        "    for i in range(num_of_images):#int(num_of_images/2)): ## iterating on every image and its corresponding xml file\n",
        "        image_path = images_path + str(i+1) + '.JPG'\n",
        "        xml_file_path =  xml_path + str(i+1) + '.xml'\n",
        "       \n",
        "        if (path.exists(image_path) and path.exists(xml_file_path)): ## make sure we dont upload null\n",
        "            img = cv2.imread(image_path)  ## Read img\n",
        "            img = cv2.cvtColor(img, cv2.COLOR_BGR2RGB)\n",
        "            img = background_removal(img)\n",
        "            boxes, labels = extract_boxes(xml_file_path) ## extract coordinates and labels from xml file\n",
        "            \n",
        "            for b in range(len(boxes)):\n",
        "                box = boxes[b]\n",
        "                label = labels[b]\n",
        "                xmin = box[0]\n",
        "                xmax = box[2]\n",
        "                ymin = box[1]\n",
        "                ymax = box[3]\n",
        "                if((xmax-xmin)>0 and (ymax-ymin)>0): ## for boxes annotated on mistake\n",
        "                    image = img[ymin:ymax,xmin:xmax]\n",
        "                    image = cv2.resize(image, (150, 100)) ## VGG16 demands iamge shape of (224,224,3)\n",
        "                    data['images'].append(image)\n",
        "                    data['class'].append(label)\n",
        "    return data"
      ],
      "execution_count": 4,
      "outputs": []
    },
    {
      "cell_type": "code",
      "metadata": {
        "id": "3wdnkI431BLw",
        "colab_type": "code",
        "colab": {
          "base_uri": "https://localhost:8080/",
          "height": 69
        },
        "outputId": "1b32400a-9655-4e36-eb76-edf2c04992e3"
      },
      "source": [
        "images_path = '/content/drive/My Drive/Colab Notebooks/Images/'\n",
        "xml_path = '/content/drive/My Drive/פרוייקט גמר/XML/'\n",
        "print(\"Reading data...(might take a few minuets)\")\n",
        "data = read_data(images_path,xml_path)\n",
        "print(\"Number of annotated object in the dataset:\", len(data['class']))"
      ],
      "execution_count": 5,
      "outputs": [
        {
          "output_type": "stream",
          "text": [
            "Reading data...(might take a few minuets)\n",
            "Number of images in the datase: 118\n",
            "Number of annotated object in the dataset: 33659\n"
          ],
          "name": "stdout"
        }
      ]
    },
    {
      "cell_type": "code",
      "metadata": {
        "id": "suzNPpyndS1H",
        "colab_type": "code",
        "colab": {}
      },
      "source": [
        "def make_hog(data_set): ## HOG function for imgs\n",
        "    Hog_data_set = {'features': [], 'class': []}\n",
        "    for i in range(len(data_set['images'])):\n",
        "        img = data_set['images'][i]\n",
        "        fd = hog(img, orientations=8, pixels_per_cell=(32, 32),\n",
        "                    cells_per_block=(1, 1), visualize=False, multichannel=True)\n",
        "        Hog_data_set['features'].append(fd)\n",
        "        Hog_data_set['class'].append(data_set['class'][i])\n",
        "    return Hog_data_set\n"
      ],
      "execution_count": 6,
      "outputs": []
    },
    {
      "cell_type": "code",
      "metadata": {
        "id": "fEG7n3CZEarZ",
        "colab_type": "code",
        "colab": {}
      },
      "source": [
        "hog_data = make_hog(data)"
      ],
      "execution_count": 7,
      "outputs": []
    },
    {
      "cell_type": "code",
      "metadata": {
        "id": "8fHN2gzMEkcH",
        "colab_type": "code",
        "colab": {}
      },
      "source": [
        "## extarcting images and labels from dictionry\n",
        "featues = np.array(hog_data['features'])\n",
        "labels = np.array(hog_data['class'])\n",
        "labels = np.array(labels).reshape(len(labels),1)\n",
        "data_frame = np.hstack((featues,labels))\n",
        "np.random.shuffle(data_frame)"
      ],
      "execution_count": 8,
      "outputs": []
    },
    {
      "cell_type": "code",
      "metadata": {
        "id": "DwkfVxdEgt7k",
        "colab_type": "code",
        "colab": {}
      },
      "source": [
        "percentage = 70\n",
        "partition = int(len(featues)*percentage/100)\n",
        "x_train, x_test = data_frame[:partition,:-1],  data_frame[partition:,:-1]\n",
        "y_train, y_test = data_frame[:partition,-1:].ravel() , data_frame[partition:,-1:].ravel()"
      ],
      "execution_count": 9,
      "outputs": []
    },
    {
      "cell_type": "code",
      "metadata": {
        "id": "yHUV2gDyE0ja",
        "colab_type": "code",
        "colab": {}
      },
      "source": [
        "clf = svm.SVC(kernel='linear') # Linear Kernel\n",
        "svm_classifier = clf.fit(x_train, y_train.ravel())"
      ],
      "execution_count": 10,
      "outputs": []
    },
    {
      "cell_type": "code",
      "metadata": {
        "id": "u2x_uJbOA0Q0",
        "colab_type": "code",
        "colab": {
          "base_uri": "https://localhost:8080/",
          "height": 225
        },
        "outputId": "d70555d3-90f8-46aa-fb9b-4d872b836b12"
      },
      "source": [
        "from sklearn.metrics import classification_report,accuracy_score\n",
        "\n",
        "# Make prediction\n",
        "y_pred = svm_classifier.predict(x_test)\n",
        "# Evaluate our model\n",
        "print(\"Accuracy: \"+str(accuracy_score(y_test, y_pred)))\n",
        "print('\\n')\n",
        "print(classification_report(y_test, y_pred))"
      ],
      "execution_count": 11,
      "outputs": [
        {
          "output_type": "stream",
          "text": [
            "Accuracy: 0.8819568231332937\n",
            "\n",
            "\n",
            "              precision    recall  f1-score   support\n",
            "\n",
            "        -1.0       0.91      0.89      0.90      5976\n",
            "         1.0       0.85      0.87      0.86      4122\n",
            "\n",
            "    accuracy                           0.88     10098\n",
            "   macro avg       0.88      0.88      0.88     10098\n",
            "weighted avg       0.88      0.88      0.88     10098\n",
            "\n"
          ],
          "name": "stdout"
        }
      ]
    },
    {
      "cell_type": "code",
      "metadata": {
        "id": "GtoZ7AQz9b-H",
        "colab_type": "code",
        "colab": {
          "base_uri": "https://localhost:8080/",
          "height": 138
        },
        "outputId": "58e17b44-e281-4dec-ca1b-2abc5ffff30b"
      },
      "source": [
        "## preforming gridsearch for optimal hyper-parameters\n",
        "param_grid = {'C': [0.1,1, 10], 'gamma': [0.1,0.01,0.001],'kernel': ('rbf', 'poly', 'sigmoid','linear')}\n",
        "grid = GridSearchCV(SVC(),param_grid,refit=True,verbose=1, cv=3)\n",
        "grid.fit(x_train,y_train)\n",
        "print(grid.best_estimator_)"
      ],
      "execution_count": 13,
      "outputs": [
        {
          "output_type": "stream",
          "text": [
            "Fitting 3 folds for each of 36 candidates, totalling 108 fits\n"
          ],
          "name": "stdout"
        },
        {
          "output_type": "stream",
          "text": [
            "[Parallel(n_jobs=1)]: Using backend SequentialBackend with 1 concurrent workers.\n",
            "[Parallel(n_jobs=1)]: Done 108 out of 108 | elapsed: 47.3min finished\n"
          ],
          "name": "stderr"
        },
        {
          "output_type": "stream",
          "text": [
            "SVC(C=10, break_ties=False, cache_size=200, class_weight=None, coef0=0.0,\n",
            "    decision_function_shape='ovr', degree=3, gamma=0.1, kernel='rbf',\n",
            "    max_iter=-1, probability=False, random_state=None, shrinking=True,\n",
            "    tol=0.001, verbose=False)\n"
          ],
          "name": "stdout"
        }
      ]
    },
    {
      "cell_type": "code",
      "metadata": {
        "id": "IHUORIlZpnrz",
        "colab_type": "code",
        "colab": {
          "base_uri": "https://localhost:8080/",
          "height": 208
        },
        "outputId": "51922a47-2d95-417e-ecc5-0fe71b923053"
      },
      "source": [
        "grid_predictions = grid.predict(x_test)\n",
        "print(confusion_matrix(y_test,grid_predictions))\n",
        "print(classification_report(y_test,grid_predictions))"
      ],
      "execution_count": 14,
      "outputs": [
        {
          "output_type": "stream",
          "text": [
            "[[5551  425]\n",
            " [ 323 3799]]\n",
            "              precision    recall  f1-score   support\n",
            "\n",
            "        -1.0       0.95      0.93      0.94      5976\n",
            "         1.0       0.90      0.92      0.91      4122\n",
            "\n",
            "    accuracy                           0.93     10098\n",
            "   macro avg       0.92      0.93      0.92     10098\n",
            "weighted avg       0.93      0.93      0.93     10098\n",
            "\n"
          ],
          "name": "stdout"
        }
      ]
    }
  ]
}